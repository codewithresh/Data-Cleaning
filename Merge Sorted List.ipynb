{
 "cells": [
  {
   "cell_type": "code",
   "execution_count": null,
   "id": "1e1db9d2",
   "metadata": {},
   "outputs": [],
   "source": [
    "class ListNode:\n",
    "    def __init__(self, val=0, next=None):\n",
    "        self.val = val\n",
    "        self.next = next\n",
    "\n",
    "def mergeTwoLists(list1, list2):\n",
    "    # Create a dummy node to form the new sorted linked list\n",
    "    dummy = ListNode()\n",
    "    current = dummy\n",
    "\n",
    "    # Traverse both lists\n",
    "    while list1 and list2:\n",
    "        if list1.val < list2.val:\n",
    "            current.next = list1\n",
    "            list1 = list1.next\n",
    "        else:\n",
    "            current.next = list2\n",
    "            list2 = list2.next\n",
    "        current = current.next\n",
    "\n",
    "    # At the end of the loop, connect the remaining part of the non-empty list\n",
    "    if list1:\n",
    "        current.next = list1\n",
    "    else:\n",
    "        current.next = list2\n",
    "\n",
    "    # Return the merged sorted list, starting from the next node after dummy\n",
    "    return dummy.next\n",
    "\n",
    "# Example usage:\n",
    "# Assuming ListNode class and mergeTwoLists function is defined\n",
    "def printList(node):\n",
    "    while node:\n",
    "        print(node.val, end=\" -> \")\n",
    "        node = node.next\n",
    "    print(\"None\")\n",
    "\n",
    "# Creating two sorted linked lists\n",
    "# list1: 1 -> 2 -> 4\n",
    "list1 = ListNode(1, ListNode(2, ListNode(4)))\n",
    "# list2: 1 -> 3 -> 4\n",
    "list2 = ListNode(1, ListNode(3, ListNode(4)))\n",
    "\n",
    "# Merging the lists\n",
    "merged_list = mergeTwoLists(list1, list2)\n",
    "\n",
    "# Printing the merged list\n",
    "printList(merged_list)\n"
   ]
  },
  {
   "cell_type": "code",
   "execution_count": null,
   "id": "23dbff53",
   "metadata": {},
   "outputs": [],
   "source": []
  }
 ],
 "metadata": {
  "kernelspec": {
   "display_name": "Python 3 (ipykernel)",
   "language": "python",
   "name": "python3"
  }
 },
 "nbformat": 4,
 "nbformat_minor": 5
}
