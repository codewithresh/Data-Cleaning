{
  "nbformat": 4,
  "nbformat_minor": 0,
  "metadata": {
    "colab": {
      "provenance": []
    },
    "kernelspec": {
      "name": "python3",
      "display_name": "Python 3"
    },
    "language_info": {
      "name": "python"
    }
  },
  "cells": [
    {
      "cell_type": "code",
      "execution_count": 2,
      "metadata": {
        "colab": {
          "base_uri": "https://localhost:8080/"
        },
        "id": "GDpMO1xWxnP9",
        "outputId": "38685f04-6e46-4f86-84f3-b9cbed9dd3c2"
      },
      "outputs": [
        {
          "output_type": "stream",
          "name": "stdout",
          "text": [
            "Requirement already satisfied: requests in /usr/local/lib/python3.10/dist-packages (2.31.0)\n",
            "Requirement already satisfied: charset-normalizer<4,>=2 in /usr/local/lib/python3.10/dist-packages (from requests) (3.3.2)\n",
            "Requirement already satisfied: idna<4,>=2.5 in /usr/local/lib/python3.10/dist-packages (from requests) (3.7)\n",
            "Requirement already satisfied: urllib3<3,>=1.21.1 in /usr/local/lib/python3.10/dist-packages (from requests) (2.0.7)\n",
            "Requirement already satisfied: certifi>=2017.4.17 in /usr/local/lib/python3.10/dist-packages (from requests) (2024.2.2)\n",
            "Requirement already satisfied: beautifulsoup4 in /usr/local/lib/python3.10/dist-packages (4.12.3)\n",
            "Requirement already satisfied: soupsieve>1.2 in /usr/local/lib/python3.10/dist-packages (from beautifulsoup4) (2.5)\n"
          ]
        }
      ],
      "source": [
        "!pip install requests\n",
        "!pip install beautifulsoup4\n"
      ]
    },
    {
      "cell_type": "code",
      "source": [
        "import requests\n",
        "from bs4 import BeautifulSoup\n",
        "\n",
        "# URL of the website containing IPL scores\n",
        "url=\"https://www.cricbuzz.com/cricket-series/ipl-2020/auction/completed\"\n",
        "get_url=requests.get(url)\n",
        "soup=BeautifulSoup(get_url.text,\"html.parser\")\n",
        "\n"
      ],
      "metadata": {
        "id": "xfSw7Owuxyp9"
      },
      "execution_count": 10,
      "outputs": []
    },
    {
      "cell_type": "code",
      "source": [
        "Name= [i.text for i in soup.findAll('div',{'class':'cb-font-18'})]\n",
        "Sold_Unsold= [i.text for i in soup.findAll('div',{'class':'cb-col cb-col-20 cb-lst-itm-sm'})]"
      ],
      "metadata": {
        "id": "VFnuDgn-yL6L"
      },
      "execution_count": 11,
      "outputs": []
    },
    {
      "cell_type": "code",
      "source": [
        "Base_Price= [i.text for i in soup.findAll('div',{'class':'cb-col cb-col-33 cb-lst-itm-sm text-left','class':'cb-font-16'})]\n",
        "Base_Price=Base_Price[0:len(Base_Price)-3:3]\n",
        "Base_Price=[i.replace('\\xa0\\xa0',' ') for i in Base_Price]\n",
        "Final_Price= [i.text for i in soup.findAll('div',{'class':'cb-col cb-col-33 cb-lst-itm-sm text-left','class':'cb-font-16'})]\n",
        "Final_Price=Final_Price[1:len(Final_Price)-3:3]\n",
        "Final_Price=[i.replace('\\xa0\\xa0',' ') for i in Final_Price]\n",
        "Sold_To= [i.text for i in soup.findAll('div',{'class':'cb-col cb-col-33 cb-lst-itm-sm text-left','class':'cb-font-16'})]\n",
        "Sold_To=Sold_To[2:len(Sold_To)-3:3]\n",
        "Sold_To=[i.replace('\\xa0\\xa0',' ') for i in Sold_To]\n"
      ],
      "metadata": {
        "id": "F6UVdxVAzNqz"
      },
      "execution_count": 13,
      "outputs": []
    },
    {
      "cell_type": "code",
      "source": [
        "Role= [i.text for i in soup.findAll('div',{'class':'cb-col cb-col-80','class':'cb-font-12 text-gray'})]\n",
        "Role=Role[0::4]\n",
        "# Role=[i.split(' • ')[0] for i in Role]\n",
        "Role"
      ],
      "metadata": {
        "colab": {
          "base_uri": "https://localhost:8080/"
        },
        "id": "66PW5ISfzXO3",
        "outputId": "d3b6a93d-2511-4af9-ea66-c78960e8cdee"
      },
      "execution_count": 16,
      "outputs": [
        {
          "output_type": "execute_result",
          "data": {
            "text/plain": [
              "[' Bowler • India ',\n",
              " ' Bowler • West Indies ',\n",
              " ' Bowling Allrounder • Sri Lanka ',\n",
              " ' Bowling Allrounder • England ',\n",
              " ' Batsman • India ',\n",
              " ' WK-Batsman • India ',\n",
              " ' Batting Allrounder • India ',\n",
              " ' Bowler • Australia ',\n",
              " ' Bowler • South Africa ',\n",
              " ' Bowler • England ',\n",
              " ' Batting Allrounder • Australia ',\n",
              " ' Batting Allrounder • New Zealand ',\n",
              " ' Bowling Allrounder • Australia ',\n",
              " ' Bowler • India ',\n",
              " ' Bowler • India ',\n",
              " ' WK-Batsman • India ',\n",
              " ' WK-Batsman • India ',\n",
              " ' Bowling Allrounder • Australia ',\n",
              " ' Bowling Allrounder • India ',\n",
              " ' Batting Allrounder • India ',\n",
              " ' Batsman • India ',\n",
              " ' Bowler • India ',\n",
              " ' WK-Batsman • Sri Lanka ',\n",
              " ' Batting Allrounder • New Zealand ',\n",
              " ' Batsman • India ',\n",
              " ' Batting Allrounder • India ',\n",
              " ' Bowler • India ',\n",
              " ' Bowling Allrounder • India ',\n",
              " ' India ',\n",
              " ' Bowler • India ',\n",
              " ' Bowler • England ',\n",
              " ' Bowler • Australia ',\n",
              " ' Batsman • India ',\n",
              " ' Batsman • India ',\n",
              " ' India ',\n",
              " ' Bowler • India ',\n",
              " ' Bowler • England ',\n",
              " ' Bowler • Australia ',\n",
              " ' Bowler • India ',\n",
              " ' Bowler • India ',\n",
              " ' WK-Batsman • India ',\n",
              " ' Batting Allrounder • India ',\n",
              " ' Bowler • West Indies ',\n",
              " ' Bowler • Australia ',\n",
              " ' Bowler • New Zealand ',\n",
              " ' Bowler • Australia ',\n",
              " ' Bowler • England ',\n",
              " ' Bowling Allrounder • West Indies ',\n",
              " ' Batting Allrounder • West Indies ',\n",
              " ' WK-Batsman • England ',\n",
              " ' Bowler • India ',\n",
              " ' Bowler • India ',\n",
              " ' WK-Batsman • Australia ',\n",
              " ' Batting Allrounder • India ',\n",
              " ' Bowling Allrounder • Australia ',\n",
              " ' Bowler • India ',\n",
              " ' Batting Allrounder • India ',\n",
              " ' Bowling Allrounder • India ',\n",
              " ' Bowler • New Zealand ',\n",
              " ' Bowler • Australia ',\n",
              " ' Bowler • Bangladesh ',\n",
              " ' Bowler • West Indies ',\n",
              " ' Bowler • India ',\n",
              " ' Bowler • South Africa ',\n",
              " ' Batting Allrounder • New Zealand ',\n",
              " ' Bowling Allrounder • India ',\n",
              " ' Bowling Allrounder • South Africa ',\n",
              " ' Batting Allrounder • Australia ',\n",
              " ' Bowling Allrounder • West Indies ',\n",
              " ' Batsman • New Zealand ',\n",
              " ' Batsman • South Africa ',\n",
              " ' Batsman • India ',\n",
              " ' Batsman • India ',\n",
              " ' Batsman • South Africa ',\n",
              " ' Batsman • West Indies ',\n",
              " ' Batsman • West Indies ',\n",
              " ' Bowler • Afghanistan ',\n",
              " ' Bowler • India ',\n",
              " ' Bowler • India ',\n",
              " ' Bowler • India ',\n",
              " ' Bowler • India ',\n",
              " ' Bowler • Australia ',\n",
              " ' Bowler • India ',\n",
              " ' Bowler • India ',\n",
              " ' Bowler • India ',\n",
              " ' Bowler • India ',\n",
              " ' WK-Batsman • India ',\n",
              " ' WK-Batsman • India ',\n",
              " ' WK-Batsman • India ',\n",
              " ' WK-Batsman • India ',\n",
              " ' Batsman • India ',\n",
              " ' Bowler • India ',\n",
              " ' Batting Allrounder • India ',\n",
              " ' Batsman • India ',\n",
              " ' Batting Allrounder • India ',\n",
              " ' Batsman • India ',\n",
              " ' Batsman • India ',\n",
              " ' Batsman • India ',\n",
              " ' Bowler • Afghanistan ',\n",
              " ' Bowler • West Indies ',\n",
              " ' Bowler • Australia ',\n",
              " ' Bowler • New Zealand ',\n",
              " ' Bowler • India ',\n",
              " ' Bowler • West Indies ',\n",
              " ' Bowler • New Zealand ',\n",
              " ' Bowler • Australia ',\n",
              " ' Bowler • India ',\n",
              " ' WK-Batsman • West Indies ',\n",
              " ' WK-Batsman • India ',\n",
              " ' WK-Batsman • Bangladesh ',\n",
              " ' WK-Batsman • South Africa ',\n",
              " ' WK-Batsman • Australia ',\n",
              " ' Batting Allrounder • India ',\n",
              " ' Bowling Allrounder • South Africa ',\n",
              " ' Bowling Allrounder • England ',\n",
              " ' Bowler • Australia ',\n",
              " ' Batting Allrounder • India ',\n",
              " ' Bowling Allrounder • England ',\n",
              " ' Batting Allrounder • Australia ',\n",
              " ' Batsman • Australia ',\n",
              " ' Batsman • England ',\n",
              " ' Batsman • India ',\n",
              " ' Batting Allrounder • India ',\n",
              " ' WK-Batsman • India ',\n",
              " ' Batsman • England ',\n",
              " ' Batsman • Australia ']"
            ]
          },
          "metadata": {},
          "execution_count": 16
        }
      ]
    },
    {
      "cell_type": "code",
      "source": [
        "import pandas as pd\n",
        "Table=pd.DataFrame({\n",
        "    \"Name\":Name,\n",
        "    \"Role\": Role,\n",
        "    \"Status\":Sold_Unsold,\n",
        "    \"Base Price\": Base_Price,\n",
        "    \"Final Price\": Final_Price,\n",
        "    \"Team\": Sold_To })\n",
        "Table.replace(\"-\",\"\",inplace=True)\n",
        "Table.to_csv(\"IPLAuction2019.csv\")"
      ],
      "metadata": {
        "id": "UENoeloez3B9"
      },
      "execution_count": 18,
      "outputs": []
    },
    {
      "cell_type": "code",
      "source": [
        "import pandas as pd\n",
        "\n",
        "# Replace 'your_file.csv' with the path to your CSV file\n",
        "df = pd.read_csv('IPLAuction2019.csv')\n",
        "\n",
        "# Display the first few rows of the DataFrame\n",
        "print(df.head())\n"
      ],
      "metadata": {
        "colab": {
          "base_uri": "https://localhost:8080/"
        },
        "id": "quccULdb0uXw",
        "outputId": "54a5abd5-f472-4e1d-fb94-73503aa969ab"
      },
      "execution_count": 19,
      "outputs": [
        {
          "output_type": "stream",
          "name": "stdout",
          "text": [
            "   Unnamed: 0                Name                              Role    Status  \\\n",
            "0           0        Vinay Kumar                    Bowler • India    UNSOLD    \n",
            "1           1   Kesrick Williams              Bowler • West Indies    UNSOLD    \n",
            "2           2        Isuru Udana    Bowling Allrounder • Sri Lanka      SOLD    \n",
            "3           3         Tom Curran      Bowling Allrounder • England      SOLD    \n",
            "4           4        Nikhil Naik                   Batsman • India      SOLD    \n",
            "\n",
            "   Base Price Final Price Team  \n",
            "0  1.00 Crore         NaN  NaN  \n",
            "1  50.00 Lakh         NaN  NaN  \n",
            "2  50.00 Lakh  50.00 Lakh  RCB  \n",
            "3  1.00 Crore  1.00 Crore   RR  \n",
            "4  20.00 Lakh  20.00 Lakh  KKR  \n"
          ]
        }
      ]
    },
    {
      "cell_type": "code",
      "source": [
        "print(df.shape)"
      ],
      "metadata": {
        "colab": {
          "base_uri": "https://localhost:8080/"
        },
        "id": "zbFb2tt124xE",
        "outputId": "a02ceff5-1fd5-41d0-d0c6-fa0590860a6e"
      },
      "execution_count": 21,
      "outputs": [
        {
          "output_type": "stream",
          "name": "stdout",
          "text": [
            "(126, 7)\n"
          ]
        }
      ]
    },
    {
      "cell_type": "code",
      "source": [
        "print(df.dtypes)"
      ],
      "metadata": {
        "colab": {
          "base_uri": "https://localhost:8080/"
        },
        "id": "Fh6Br8tX29LP",
        "outputId": "a1346c94-e369-4712-8535-a855873b4436"
      },
      "execution_count": 22,
      "outputs": [
        {
          "output_type": "stream",
          "name": "stdout",
          "text": [
            "Unnamed: 0      int64\n",
            "Name           object\n",
            "Role           object\n",
            "Status         object\n",
            "Base Price     object\n",
            "Final Price    object\n",
            "Team           object\n",
            "dtype: object\n"
          ]
        }
      ]
    },
    {
      "cell_type": "code",
      "source": [
        "print(df.describe())"
      ],
      "metadata": {
        "colab": {
          "base_uri": "https://localhost:8080/"
        },
        "id": "g1Cwcj1I3USf",
        "outputId": "5dec9f82-c007-4fc8-f191-ed8007dcad85"
      },
      "execution_count": 23,
      "outputs": [
        {
          "output_type": "stream",
          "name": "stdout",
          "text": [
            "       Unnamed: 0\n",
            "count  126.000000\n",
            "mean    62.500000\n",
            "std     36.517119\n",
            "min      0.000000\n",
            "25%     31.250000\n",
            "50%     62.500000\n",
            "75%     93.750000\n",
            "max    125.000000\n"
          ]
        }
      ]
    },
    {
      "cell_type": "code",
      "source": [
        "print(df.isnull().sum())\n"
      ],
      "metadata": {
        "colab": {
          "base_uri": "https://localhost:8080/"
        },
        "id": "mBeWIfMi3q7Q",
        "outputId": "cf12569d-6d1e-40d5-e06c-206d4a4a86c4"
      },
      "execution_count": 44,
      "outputs": [
        {
          "output_type": "stream",
          "name": "stdout",
          "text": [
            "Unnamed: 0      0\n",
            "Name            0\n",
            "Role            0\n",
            "Status          0\n",
            "Base Price      0\n",
            "Final Price    64\n",
            "Team           64\n",
            "dtype: int64\n"
          ]
        }
      ]
    },
    {
      "cell_type": "code",
      "source": [
        "print(df['Role'].unique())\n"
      ],
      "metadata": {
        "colab": {
          "base_uri": "https://localhost:8080/"
        },
        "id": "PKKtX1hb6Dbw",
        "outputId": "72f0e9e3-0cc0-4c86-d128-0f32599defa0"
      },
      "execution_count": 27,
      "outputs": [
        {
          "output_type": "stream",
          "name": "stdout",
          "text": [
            "[' Bowler • India ' ' Bowler • West Indies '\n",
            " ' Bowling Allrounder • Sri Lanka ' ' Bowling Allrounder • England '\n",
            " ' Batsman • India ' ' WK-Batsman • India ' ' Batting Allrounder • India '\n",
            " ' Bowler • Australia ' ' Bowler • South Africa ' ' Bowler • England '\n",
            " ' Batting Allrounder • Australia ' ' Batting Allrounder • New Zealand '\n",
            " ' Bowling Allrounder • Australia ' ' Bowling Allrounder • India '\n",
            " ' WK-Batsman • Sri Lanka ' ' India ' ' Bowler • New Zealand '\n",
            " ' Bowling Allrounder • West Indies ' ' Batting Allrounder • West Indies '\n",
            " ' WK-Batsman • England ' ' WK-Batsman • Australia '\n",
            " ' Bowler • Bangladesh ' ' Bowling Allrounder • South Africa '\n",
            " ' Batsman • New Zealand ' ' Batsman • South Africa '\n",
            " ' Batsman • West Indies ' ' Bowler • Afghanistan '\n",
            " ' WK-Batsman • West Indies ' ' WK-Batsman • Bangladesh '\n",
            " ' WK-Batsman • South Africa ' ' Batsman • Australia '\n",
            " ' Batsman • England ']\n"
          ]
        }
      ]
    },
    {
      "cell_type": "code",
      "source": [
        "import matplotlib.pyplot as plt\n",
        "\n",
        "df['Final Price'].hist()\n",
        "plt.show()\n"
      ],
      "metadata": {
        "colab": {
          "base_uri": "https://localhost:8080/",
          "height": 430
        },
        "id": "QiNe_bOX6GP2",
        "outputId": "b083c990-9562-48e9-ab77-827b585f3912"
      },
      "execution_count": 28,
      "outputs": [
        {
          "output_type": "display_data",
          "data": {
            "text/plain": [
              "<Figure size 640x480 with 1 Axes>"
            ],
            "image/png": "[encoded data removed]"
          },
          "metadata": {}
        }
      ]
    },
    {
      "cell_type": "code",
      "source": [
        "import seaborn as sns\n",
        "\n",
        "sns.pairplot(df)\n",
        "plt.show()\n"
      ],
      "metadata": {
        "colab": {
          "base_uri": "https://localhost:8080/",
          "height": 268
        },
        "id": "zVQC4sDA6UgP",
        "outputId": "c9b2adc6-dc2b-491f-ac20-7c69aca0a61d"
      },
      "execution_count": 29,
      "outputs": [
        {
          "output_type": "display_data",
          "data": {
            "text/plain": [
              "<Figure size 250x250 with 2 Axes>"
            ],
            "image/png": "[encoded data removed]"
          },
          "metadata": {}
        }
      ]
    },
    {
      "cell_type": "code",
      "source": [
        "# Step 7: Feature Engineering\n",
        "\n",
        "# Convert 'Base Price' and 'Final Price' columns to string type\n",
        "df['Base Price'] = df['Base Price'].astype(str)\n",
        "df['Final Price'] = df['Final Price'].astype(str)\n",
        "\n",
        "# Replace 'Crore' and 'Lakh' with scientific notation and convert to float\n",
        "df['Base Price'] = df['Base Price'].str.replace(' Crore', 'e7').str.replace(' Lakh', 'e5').astype(float)\n",
        "df['Final Price'] = df['Final Price'].str.replace(' Crore', 'e7').str.replace(' Lakh', 'e5').astype(float)\n",
        "\n",
        "# Calculate difference between Final Price and Base Price as a new feature 'Price Difference'\n",
        "df['Price Difference'] = df['Final Price'] - df['Base Price']\n",
        "\n",
        "# Extract playing country from 'Role' column and create a new feature 'Country'\n",
        "df['Country'] = df['Role'].apply(lambda x: x.split(' • ')[-1])\n",
        "\n",
        "# Step 8: Advanced Analysis\n",
        "\n",
        "# Hypothesis Testing: Test if there is a significant difference in price between Indian and overseas players\n",
        "from scipy.stats import ttest_ind\n",
        "\n",
        "indian_prices = df[df['Country'] == 'India']['Final Price'].dropna()\n",
        "overseas_prices = df[df['Country'] != 'India']['Final Price'].dropna()\n",
        "\n",
        "t_stat, p_value = ttest_ind(indian_prices, overseas_prices)\n",
        "print(\"T-statistic:\", t_stat)\n",
        "print(\"P-value:\", p_value)\n",
        "\n",
        "# Data Visualization: Scatter plot of Base Price vs Final Price colored by playing country\n",
        "plt.figure(figsize=(10, 6))\n",
        "sns.scatterplot(x='Base Price', y='Final Price', hue='Country', data=df)\n",
        "plt.xlabel('Base Price')\n",
        "plt.ylabel('Final Price')\n",
        "plt.title('Scatterplot of Base Price vs Final Price (Colored by Country)')\n",
        "plt.show()\n",
        "\n"
      ],
      "metadata": {
        "colab": {
          "base_uri": "https://localhost:8080/",
          "height": 599
        },
        "id": "whDiCazG-P98",
        "outputId": "b52c2bb0-780f-4132-c58d-e7045f636428"
      },
      "execution_count": 46,
      "outputs": [
        {
          "output_type": "stream",
          "name": "stdout",
          "text": [
            "T-statistic: nan\n",
            "P-value: nan\n"
          ]
        },
        {
          "output_type": "display_data",
          "data": {
            "text/plain": [
              "<Figure size 1000x600 with 1 Axes>"
            ],
            "image/png": "[encoded data removed]"
          },
          "metadata": {}
        }
      ]
    }
  ]
}